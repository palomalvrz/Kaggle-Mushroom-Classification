{
 "cells": [
  {
   "cell_type": "markdown",
   "id": "451feb86-8b10-4f25-94a8-becc110dfdc2",
   "metadata": {},
   "source": [
    "# Mushroom Classification - Data Loading and Exploratory Data Analysis\n",
    "***"
   ]
  },
  {
   "cell_type": "markdown",
   "id": "c59a12bd-610c-4977-8593-de4328c0a7c7",
   "metadata": {},
   "source": [
    "The mushroom dataset consists of descriptions of hypothetical samples corresponding to 23 species of gilled mushrooms. Each species is identified as definitely edible, definitely poisonous, or of unknown edibility and not recommended (this class was combined with the poisonous one). \n",
    "\n",
    "According to the original source, there is no simple rule for determining mushroom edibility based on physical traits. Therefore, **the goal of this project is to explore which features are most indicative of poisonous mushrooms and to evaluate which classification model best predicts edibility**.\n",
    "\n",
    "The following sections present the attribute information, initial data loading, and a detailed exploratory data analysis (EDA) of the dataset."
   ]
  },
  {
   "cell_type": "markdown",
   "id": "d4926785-f499-4a99-ba12-1c8c5533be62",
   "metadata": {},
   "source": [
    "\n",
    "\n",
    "**Attribute Information:** (classes: edible=e, poisonous=p)\n",
    "\n",
    "cap-shape: bell=b,conical=c,convex=x,flat=f, knobbed=k,sunken=s\n",
    "\n",
    "cap-surface: fibrous=f,grooves=g,scaly=y,smooth=s\n",
    "\n",
    "cap-color: brown=n,buff=b,cinnamon=c,gray=g,green=r,pink=p,purple=u,red=e,white=w,yellow=y\n",
    "\n",
    "bruises: bruises=t,no=f\n",
    "\n",
    "odor: almond=a,anise=l,creosote=c,fishy=y,foul=f,musty=m,none=n,pungent=p,spicy=s\n",
    "\n",
    "gill-attachment: attached=a,descending=d,free=f,notched=n\n",
    "\n",
    "gill-spacing: close=c,crowded=w,distant=d\n",
    "\n",
    "gill-size: broad=b,narrow=n\n",
    "\n",
    "gill-color: black=k,brown=n,buff=b,chocolate=h,gray=g, green=r,orange=o,pink=p,purple=u,red=e,white=w,yellow=y\n",
    "\n",
    "stalk-shape: enlarging=e,tapering=t\n",
    "\n",
    "stalk-root: bulbous=b,club=c,cup=u,equal=e,rhizomorphs=z,rooted=r,missing=?\n",
    "\n",
    "stalk-surface-above-ring: fibrous=f,scaly=y,silky=k,smooth=s\n",
    "\n",
    "stalk-surface-below-ring: fibrous=f,scaly=y,silky=k,smooth=s\n",
    "\n",
    "stalk-color-above-ring: brown=n,buff=b,cinnamon=c,gray=g,orange=o,pink=p,red=e,white=w,yellow=y\n",
    "\n",
    "stalk-color-below-ring: brown=n,buff=b,cinnamon=c,gray=g,orange=o,pink=p,red=e,white=w,yellow=y\n",
    "\n",
    "veil-type: partial=p,universal=u\n",
    "\n",
    "veil-color: brown=n,orange=o,white=w,yellow=y\n",
    "\n",
    "ring-number: none=n,one=o,two=t\n",
    "\n",
    "ring-type: cobwebby=c,evanescent=e,flaring=f,large=l,none=n,pendant=p,sheathing=s,zone=z\n",
    "\n",
    "spore-print-color: black=k,brown=n,buff=b,chocolate=h,green=r,orange=o,purple=u,white=w,yellow=y\n",
    "\n",
    "population: abundant=a,clustered=c,numerous=n,scattered=s,several=v,solitary=y\n",
    "\n",
    "habitat: grasses=g,leaves=l,meadows=m,paths=p,urban=u,waste=w,woods=d"
   ]
  },
  {
   "cell_type": "markdown",
   "id": "8b040291-e40b-4dd1-9907-529094e639bc",
   "metadata": {},
   "source": [
    "# Data Loading and Initial Look"
   ]
  },
  {
   "cell_type": "markdown",
   "id": "6bd7e62f-fc4f-4940-9930-3dc10fbe1d0e",
   "metadata": {},
   "source": [
    "### Load libraries and data"
   ]
  },
  {
   "cell_type": "code",
   "execution_count": 2,
   "id": "acfdeb93-0c93-4cb8-85f0-37c621f98df5",
   "metadata": {},
   "outputs": [],
   "source": [
    "import pandas as pd\n",
    "import numpy as np\n",
    "import matplotlib.pyplot as plt\n",
    "import seaborn as sns"
   ]
  },
  {
   "cell_type": "code",
   "execution_count": 3,
   "id": "0d5cba75-e80a-443d-a6cd-fafa92e3dcc1",
   "metadata": {},
   "outputs": [
    {
     "data": {
      "text/html": [
       "<div>\n",
       "<style scoped>\n",
       "    .dataframe tbody tr th:only-of-type {\n",
       "        vertical-align: middle;\n",
       "    }\n",
       "\n",
       "    .dataframe tbody tr th {\n",
       "        vertical-align: top;\n",
       "    }\n",
       "\n",
       "    .dataframe thead th {\n",
       "        text-align: right;\n",
       "    }\n",
       "</style>\n",
       "<table border=\"1\" class=\"dataframe\">\n",
       "  <thead>\n",
       "    <tr style=\"text-align: right;\">\n",
       "      <th></th>\n",
       "      <th>class</th>\n",
       "      <th>cap-shape</th>\n",
       "      <th>cap-surface</th>\n",
       "      <th>cap-color</th>\n",
       "      <th>bruises</th>\n",
       "      <th>odor</th>\n",
       "      <th>gill-attachment</th>\n",
       "      <th>gill-spacing</th>\n",
       "      <th>gill-size</th>\n",
       "      <th>gill-color</th>\n",
       "      <th>...</th>\n",
       "      <th>stalk-surface-below-ring</th>\n",
       "      <th>stalk-color-above-ring</th>\n",
       "      <th>stalk-color-below-ring</th>\n",
       "      <th>veil-type</th>\n",
       "      <th>veil-color</th>\n",
       "      <th>ring-number</th>\n",
       "      <th>ring-type</th>\n",
       "      <th>spore-print-color</th>\n",
       "      <th>population</th>\n",
       "      <th>habitat</th>\n",
       "    </tr>\n",
       "  </thead>\n",
       "  <tbody>\n",
       "    <tr>\n",
       "      <th>0</th>\n",
       "      <td>p</td>\n",
       "      <td>x</td>\n",
       "      <td>s</td>\n",
       "      <td>n</td>\n",
       "      <td>t</td>\n",
       "      <td>p</td>\n",
       "      <td>f</td>\n",
       "      <td>c</td>\n",
       "      <td>n</td>\n",
       "      <td>k</td>\n",
       "      <td>...</td>\n",
       "      <td>s</td>\n",
       "      <td>w</td>\n",
       "      <td>w</td>\n",
       "      <td>p</td>\n",
       "      <td>w</td>\n",
       "      <td>o</td>\n",
       "      <td>p</td>\n",
       "      <td>k</td>\n",
       "      <td>s</td>\n",
       "      <td>u</td>\n",
       "    </tr>\n",
       "    <tr>\n",
       "      <th>1</th>\n",
       "      <td>e</td>\n",
       "      <td>x</td>\n",
       "      <td>s</td>\n",
       "      <td>y</td>\n",
       "      <td>t</td>\n",
       "      <td>a</td>\n",
       "      <td>f</td>\n",
       "      <td>c</td>\n",
       "      <td>b</td>\n",
       "      <td>k</td>\n",
       "      <td>...</td>\n",
       "      <td>s</td>\n",
       "      <td>w</td>\n",
       "      <td>w</td>\n",
       "      <td>p</td>\n",
       "      <td>w</td>\n",
       "      <td>o</td>\n",
       "      <td>p</td>\n",
       "      <td>n</td>\n",
       "      <td>n</td>\n",
       "      <td>g</td>\n",
       "    </tr>\n",
       "    <tr>\n",
       "      <th>2</th>\n",
       "      <td>e</td>\n",
       "      <td>b</td>\n",
       "      <td>s</td>\n",
       "      <td>w</td>\n",
       "      <td>t</td>\n",
       "      <td>l</td>\n",
       "      <td>f</td>\n",
       "      <td>c</td>\n",
       "      <td>b</td>\n",
       "      <td>n</td>\n",
       "      <td>...</td>\n",
       "      <td>s</td>\n",
       "      <td>w</td>\n",
       "      <td>w</td>\n",
       "      <td>p</td>\n",
       "      <td>w</td>\n",
       "      <td>o</td>\n",
       "      <td>p</td>\n",
       "      <td>n</td>\n",
       "      <td>n</td>\n",
       "      <td>m</td>\n",
       "    </tr>\n",
       "    <tr>\n",
       "      <th>3</th>\n",
       "      <td>p</td>\n",
       "      <td>x</td>\n",
       "      <td>y</td>\n",
       "      <td>w</td>\n",
       "      <td>t</td>\n",
       "      <td>p</td>\n",
       "      <td>f</td>\n",
       "      <td>c</td>\n",
       "      <td>n</td>\n",
       "      <td>n</td>\n",
       "      <td>...</td>\n",
       "      <td>s</td>\n",
       "      <td>w</td>\n",
       "      <td>w</td>\n",
       "      <td>p</td>\n",
       "      <td>w</td>\n",
       "      <td>o</td>\n",
       "      <td>p</td>\n",
       "      <td>k</td>\n",
       "      <td>s</td>\n",
       "      <td>u</td>\n",
       "    </tr>\n",
       "    <tr>\n",
       "      <th>4</th>\n",
       "      <td>e</td>\n",
       "      <td>x</td>\n",
       "      <td>s</td>\n",
       "      <td>g</td>\n",
       "      <td>f</td>\n",
       "      <td>n</td>\n",
       "      <td>f</td>\n",
       "      <td>w</td>\n",
       "      <td>b</td>\n",
       "      <td>k</td>\n",
       "      <td>...</td>\n",
       "      <td>s</td>\n",
       "      <td>w</td>\n",
       "      <td>w</td>\n",
       "      <td>p</td>\n",
       "      <td>w</td>\n",
       "      <td>o</td>\n",
       "      <td>e</td>\n",
       "      <td>n</td>\n",
       "      <td>a</td>\n",
       "      <td>g</td>\n",
       "    </tr>\n",
       "  </tbody>\n",
       "</table>\n",
       "<p>5 rows × 23 columns</p>\n",
       "</div>"
      ],
      "text/plain": [
       "  class cap-shape cap-surface cap-color bruises odor gill-attachment  \\\n",
       "0     p         x           s         n       t    p               f   \n",
       "1     e         x           s         y       t    a               f   \n",
       "2     e         b           s         w       t    l               f   \n",
       "3     p         x           y         w       t    p               f   \n",
       "4     e         x           s         g       f    n               f   \n",
       "\n",
       "  gill-spacing gill-size gill-color  ... stalk-surface-below-ring  \\\n",
       "0            c         n          k  ...                        s   \n",
       "1            c         b          k  ...                        s   \n",
       "2            c         b          n  ...                        s   \n",
       "3            c         n          n  ...                        s   \n",
       "4            w         b          k  ...                        s   \n",
       "\n",
       "  stalk-color-above-ring stalk-color-below-ring veil-type veil-color  \\\n",
       "0                      w                      w         p          w   \n",
       "1                      w                      w         p          w   \n",
       "2                      w                      w         p          w   \n",
       "3                      w                      w         p          w   \n",
       "4                      w                      w         p          w   \n",
       "\n",
       "  ring-number ring-type spore-print-color population habitat  \n",
       "0           o         p                 k          s       u  \n",
       "1           o         p                 n          n       g  \n",
       "2           o         p                 n          n       m  \n",
       "3           o         p                 k          s       u  \n",
       "4           o         e                 n          a       g  \n",
       "\n",
       "[5 rows x 23 columns]"
      ]
     },
     "execution_count": 3,
     "metadata": {},
     "output_type": "execute_result"
    }
   ],
   "source": [
    "df = pd.read_csv('mushrooms.csv')\n",
    "df.head()"
   ]
  },
  {
   "cell_type": "markdown",
   "id": "00d8f840-fded-47b0-bd21-bb8ec23ef002",
   "metadata": {},
   "source": [
    "### Count number of rows and features"
   ]
  },
  {
   "cell_type": "code",
   "execution_count": 4,
   "id": "06c43511-0e5d-42dc-b3c7-6e35513c9d21",
   "metadata": {},
   "outputs": [
    {
     "name": "stdout",
     "output_type": "stream",
     "text": [
      "There are 8124 rows and 23 features\n"
     ]
    }
   ],
   "source": [
    "rows, col=df.shape\n",
    "print(f'There are {rows} rows and {col} features')"
   ]
  },
  {
   "cell_type": "markdown",
   "id": "642d2e1b-e944-4d09-83a7-cecbb70f8875",
   "metadata": {},
   "source": [
    "### Check for any missing values"
   ]
  },
  {
   "cell_type": "code",
   "execution_count": 5,
   "id": "a8aeaa58-2fac-419f-a551-f0b16a8d756e",
   "metadata": {},
   "outputs": [
    {
     "data": {
      "text/plain": [
       "class                       0\n",
       "cap-shape                   0\n",
       "cap-surface                 0\n",
       "cap-color                   0\n",
       "bruises                     0\n",
       "odor                        0\n",
       "gill-attachment             0\n",
       "gill-spacing                0\n",
       "gill-size                   0\n",
       "gill-color                  0\n",
       "stalk-shape                 0\n",
       "stalk-root                  0\n",
       "stalk-surface-above-ring    0\n",
       "stalk-surface-below-ring    0\n",
       "stalk-color-above-ring      0\n",
       "stalk-color-below-ring      0\n",
       "veil-type                   0\n",
       "veil-color                  0\n",
       "ring-number                 0\n",
       "ring-type                   0\n",
       "spore-print-color           0\n",
       "population                  0\n",
       "habitat                     0\n",
       "dtype: int64"
      ]
     },
     "execution_count": 5,
     "metadata": {},
     "output_type": "execute_result"
    }
   ],
   "source": [
    "df.isnull().sum()"
   ]
  },
  {
   "cell_type": "code",
   "execution_count": 6,
   "id": "9bc14d17-42ca-4135-ad7d-cd37f19c02d3",
   "metadata": {},
   "outputs": [
    {
     "data": {
      "text/plain": [
       "False"
      ]
     },
     "execution_count": 6,
     "metadata": {},
     "output_type": "execute_result"
    }
   ],
   "source": [
    "np.any(df.isnull())"
   ]
  },
  {
   "cell_type": "markdown",
   "id": "03f45152-292a-412a-bf2d-610b7255c9bf",
   "metadata": {},
   "source": [
    "### Check what type of features we have, categorical or numerical."
   ]
  },
  {
   "cell_type": "code",
   "execution_count": 7,
   "id": "0d8d7651-ed53-4508-8cdb-dafa191d62e8",
   "metadata": {},
   "outputs": [
    {
     "name": "stdout",
     "output_type": "stream",
     "text": [
      "<class 'pandas.core.frame.DataFrame'>\n",
      "RangeIndex: 8124 entries, 0 to 8123\n",
      "Data columns (total 23 columns):\n",
      " #   Column                    Non-Null Count  Dtype \n",
      "---  ------                    --------------  ----- \n",
      " 0   class                     8124 non-null   object\n",
      " 1   cap-shape                 8124 non-null   object\n",
      " 2   cap-surface               8124 non-null   object\n",
      " 3   cap-color                 8124 non-null   object\n",
      " 4   bruises                   8124 non-null   object\n",
      " 5   odor                      8124 non-null   object\n",
      " 6   gill-attachment           8124 non-null   object\n",
      " 7   gill-spacing              8124 non-null   object\n",
      " 8   gill-size                 8124 non-null   object\n",
      " 9   gill-color                8124 non-null   object\n",
      " 10  stalk-shape               8124 non-null   object\n",
      " 11  stalk-root                8124 non-null   object\n",
      " 12  stalk-surface-above-ring  8124 non-null   object\n",
      " 13  stalk-surface-below-ring  8124 non-null   object\n",
      " 14  stalk-color-above-ring    8124 non-null   object\n",
      " 15  stalk-color-below-ring    8124 non-null   object\n",
      " 16  veil-type                 8124 non-null   object\n",
      " 17  veil-color                8124 non-null   object\n",
      " 18  ring-number               8124 non-null   object\n",
      " 19  ring-type                 8124 non-null   object\n",
      " 20  spore-print-color         8124 non-null   object\n",
      " 21  population                8124 non-null   object\n",
      " 22  habitat                   8124 non-null   object\n",
      "dtypes: object(23)\n",
      "memory usage: 1.4+ MB\n"
     ]
    }
   ],
   "source": [
    "df.info()"
   ]
  },
  {
   "cell_type": "code",
   "execution_count": 10,
   "id": "fb827201-eaaf-4f6d-9fb4-1a5124f204f4",
   "metadata": {},
   "outputs": [
    {
     "data": {
      "text/html": [
       "<div>\n",
       "<style scoped>\n",
       "    .dataframe tbody tr th:only-of-type {\n",
       "        vertical-align: middle;\n",
       "    }\n",
       "\n",
       "    .dataframe tbody tr th {\n",
       "        vertical-align: top;\n",
       "    }\n",
       "\n",
       "    .dataframe thead th {\n",
       "        text-align: right;\n",
       "    }\n",
       "</style>\n",
       "<table border=\"1\" class=\"dataframe\">\n",
       "  <thead>\n",
       "    <tr style=\"text-align: right;\">\n",
       "      <th></th>\n",
       "      <th>class</th>\n",
       "      <th>cap-shape</th>\n",
       "      <th>cap-surface</th>\n",
       "      <th>cap-color</th>\n",
       "      <th>bruises</th>\n",
       "      <th>odor</th>\n",
       "      <th>gill-attachment</th>\n",
       "      <th>gill-spacing</th>\n",
       "      <th>gill-size</th>\n",
       "      <th>gill-color</th>\n",
       "      <th>stalk-shape</th>\n",
       "      <th>stalk-root</th>\n",
       "      <th>stalk-surface-above-ring</th>\n",
       "      <th>stalk-surface-below-ring</th>\n",
       "      <th>stalk-color-above-ring</th>\n",
       "      <th>stalk-color-below-ring</th>\n",
       "      <th>veil-type</th>\n",
       "      <th>veil-color</th>\n",
       "      <th>ring-number</th>\n",
       "      <th>ring-type</th>\n",
       "      <th>spore-print-color</th>\n",
       "      <th>population</th>\n",
       "      <th>habitat</th>\n",
       "    </tr>\n",
       "  </thead>\n",
       "  <tbody>\n",
       "    <tr>\n",
       "      <th>count</th>\n",
       "      <td>8124</td>\n",
       "      <td>8124</td>\n",
       "      <td>8124</td>\n",
       "      <td>8124</td>\n",
       "      <td>8124</td>\n",
       "      <td>8124</td>\n",
       "      <td>8124</td>\n",
       "      <td>8124</td>\n",
       "      <td>8124</td>\n",
       "      <td>8124</td>\n",
       "      <td>8124</td>\n",
       "      <td>8124</td>\n",
       "      <td>8124</td>\n",
       "      <td>8124</td>\n",
       "      <td>8124</td>\n",
       "      <td>8124</td>\n",
       "      <td>8124</td>\n",
       "      <td>8124</td>\n",
       "      <td>8124</td>\n",
       "      <td>8124</td>\n",
       "      <td>8124</td>\n",
       "      <td>8124</td>\n",
       "      <td>8124</td>\n",
       "    </tr>\n",
       "    <tr>\n",
       "      <th>unique</th>\n",
       "      <td>2</td>\n",
       "      <td>6</td>\n",
       "      <td>4</td>\n",
       "      <td>10</td>\n",
       "      <td>2</td>\n",
       "      <td>9</td>\n",
       "      <td>2</td>\n",
       "      <td>2</td>\n",
       "      <td>2</td>\n",
       "      <td>12</td>\n",
       "      <td>2</td>\n",
       "      <td>5</td>\n",
       "      <td>4</td>\n",
       "      <td>4</td>\n",
       "      <td>9</td>\n",
       "      <td>9</td>\n",
       "      <td>1</td>\n",
       "      <td>4</td>\n",
       "      <td>3</td>\n",
       "      <td>5</td>\n",
       "      <td>9</td>\n",
       "      <td>6</td>\n",
       "      <td>7</td>\n",
       "    </tr>\n",
       "    <tr>\n",
       "      <th>top</th>\n",
       "      <td>e</td>\n",
       "      <td>x</td>\n",
       "      <td>y</td>\n",
       "      <td>n</td>\n",
       "      <td>f</td>\n",
       "      <td>n</td>\n",
       "      <td>f</td>\n",
       "      <td>c</td>\n",
       "      <td>b</td>\n",
       "      <td>b</td>\n",
       "      <td>t</td>\n",
       "      <td>b</td>\n",
       "      <td>s</td>\n",
       "      <td>s</td>\n",
       "      <td>w</td>\n",
       "      <td>w</td>\n",
       "      <td>p</td>\n",
       "      <td>w</td>\n",
       "      <td>o</td>\n",
       "      <td>p</td>\n",
       "      <td>w</td>\n",
       "      <td>v</td>\n",
       "      <td>d</td>\n",
       "    </tr>\n",
       "    <tr>\n",
       "      <th>freq</th>\n",
       "      <td>4208</td>\n",
       "      <td>3656</td>\n",
       "      <td>3244</td>\n",
       "      <td>2284</td>\n",
       "      <td>4748</td>\n",
       "      <td>3528</td>\n",
       "      <td>7914</td>\n",
       "      <td>6812</td>\n",
       "      <td>5612</td>\n",
       "      <td>1728</td>\n",
       "      <td>4608</td>\n",
       "      <td>3776</td>\n",
       "      <td>5176</td>\n",
       "      <td>4936</td>\n",
       "      <td>4464</td>\n",
       "      <td>4384</td>\n",
       "      <td>8124</td>\n",
       "      <td>7924</td>\n",
       "      <td>7488</td>\n",
       "      <td>3968</td>\n",
       "      <td>2388</td>\n",
       "      <td>4040</td>\n",
       "      <td>3148</td>\n",
       "    </tr>\n",
       "  </tbody>\n",
       "</table>\n",
       "</div>"
      ],
      "text/plain": [
       "       class cap-shape cap-surface cap-color bruises  odor gill-attachment  \\\n",
       "count   8124      8124        8124      8124    8124  8124            8124   \n",
       "unique     2         6           4        10       2     9               2   \n",
       "top        e         x           y         n       f     n               f   \n",
       "freq    4208      3656        3244      2284    4748  3528            7914   \n",
       "\n",
       "       gill-spacing gill-size gill-color stalk-shape stalk-root  \\\n",
       "count          8124      8124       8124        8124       8124   \n",
       "unique            2         2         12           2          5   \n",
       "top               c         b          b           t          b   \n",
       "freq           6812      5612       1728        4608       3776   \n",
       "\n",
       "       stalk-surface-above-ring stalk-surface-below-ring  \\\n",
       "count                      8124                     8124   \n",
       "unique                        4                        4   \n",
       "top                           s                        s   \n",
       "freq                       5176                     4936   \n",
       "\n",
       "       stalk-color-above-ring stalk-color-below-ring veil-type veil-color  \\\n",
       "count                    8124                   8124      8124       8124   \n",
       "unique                      9                      9         1          4   \n",
       "top                         w                      w         p          w   \n",
       "freq                     4464                   4384      8124       7924   \n",
       "\n",
       "       ring-number ring-type spore-print-color population habitat  \n",
       "count         8124      8124              8124       8124    8124  \n",
       "unique           3         5                 9          6       7  \n",
       "top              o         p                 w          v       d  \n",
       "freq          7488      3968              2388       4040    3148  "
      ]
     },
     "execution_count": 10,
     "metadata": {},
     "output_type": "execute_result"
    }
   ],
   "source": [
    "pd.set_option('display.max_columns', None)\n",
    "df.describe()"
   ]
  },
  {
   "cell_type": "markdown",
   "id": "71db470e-6740-4698-8163-91f07f1327d1",
   "metadata": {},
   "source": [
    "It seems like all of our features are categorical."
   ]
  },
  {
   "cell_type": "markdown",
   "id": "09ab3f31-3db7-46e7-8bd7-9bdbe60354d2",
   "metadata": {},
   "source": [
    "### Now let's check how many unique values there are for each feature."
   ]
  },
  {
   "cell_type": "code",
   "execution_count": 11,
   "id": "3b61b1cd-3cd9-4811-8b23-665f9abf7692",
   "metadata": {},
   "outputs": [
    {
     "name": "stdout",
     "output_type": "stream",
     "text": [
      "class: ['p' 'e']\n",
      " \n",
      "cap-shape: ['x' 'b' 's' 'f' 'k' 'c']\n",
      " \n",
      "cap-surface: ['s' 'y' 'f' 'g']\n",
      " \n",
      "cap-color: ['n' 'y' 'w' 'g' 'e' 'p' 'b' 'u' 'c' 'r']\n",
      " \n",
      "bruises: ['t' 'f']\n",
      " \n",
      "odor: ['p' 'a' 'l' 'n' 'f' 'c' 'y' 's' 'm']\n",
      " \n",
      "gill-attachment: ['f' 'a']\n",
      " \n",
      "gill-spacing: ['c' 'w']\n",
      " \n",
      "gill-size: ['n' 'b']\n",
      " \n",
      "gill-color: ['k' 'n' 'g' 'p' 'w' 'h' 'u' 'e' 'b' 'r' 'y' 'o']\n",
      " \n",
      "stalk-shape: ['e' 't']\n",
      " \n",
      "stalk-root: ['e' 'c' 'b' 'r' '?']\n",
      " \n",
      "stalk-surface-above-ring: ['s' 'f' 'k' 'y']\n",
      " \n",
      "stalk-surface-below-ring: ['s' 'f' 'y' 'k']\n",
      " \n",
      "stalk-color-above-ring: ['w' 'g' 'p' 'n' 'b' 'e' 'o' 'c' 'y']\n",
      " \n",
      "stalk-color-below-ring: ['w' 'p' 'g' 'b' 'n' 'e' 'y' 'o' 'c']\n",
      " \n",
      "veil-type: ['p']\n",
      " \n",
      "veil-color: ['w' 'n' 'o' 'y']\n",
      " \n",
      "ring-number: ['o' 't' 'n']\n",
      " \n",
      "ring-type: ['p' 'e' 'l' 'f' 'n']\n",
      " \n",
      "spore-print-color: ['k' 'n' 'u' 'h' 'w' 'r' 'o' 'y' 'b']\n",
      " \n",
      "population: ['s' 'n' 'a' 'v' 'y' 'c']\n",
      " \n",
      "habitat: ['u' 'g' 'm' 'd' 'p' 'w' 'l']\n",
      " \n"
     ]
    }
   ],
   "source": [
    "#Unique values for each feature\n",
    "for col in df.columns:\n",
    "    print(f\"{col}: {df[col].unique()}\")\n",
    "    print(\" \")\n"
   ]
  },
  {
   "cell_type": "markdown",
   "id": "901a749a-ddd9-462f-b0d7-58d39434dfb8",
   "metadata": {},
   "source": [
    "### Since veil-type feature only has one unique value, we need to drop it."
   ]
  },
  {
   "cell_type": "code",
   "execution_count": 12,
   "id": "c881a640-11e4-4138-b627-2ce77ae5f0a5",
   "metadata": {},
   "outputs": [
    {
     "data": {
      "text/plain": [
       "(8124, 22)"
      ]
     },
     "execution_count": 12,
     "metadata": {},
     "output_type": "execute_result"
    }
   ],
   "source": [
    "df = df.drop(columns='veil-type') #Only one unique \n",
    "df.shape"
   ]
  },
  {
   "cell_type": "code",
   "execution_count": 13,
   "id": "e4d38878-8005-47ac-99c2-0ba38d15581d",
   "metadata": {},
   "outputs": [
    {
     "data": {
      "text/plain": [
       "Index(['class', 'cap-shape', 'cap-surface', 'cap-color', 'bruises', 'odor',\n",
       "       'gill-attachment', 'gill-spacing', 'gill-size', 'gill-color',\n",
       "       'stalk-shape', 'stalk-root', 'stalk-surface-above-ring',\n",
       "       'stalk-surface-below-ring', 'stalk-color-above-ring',\n",
       "       'stalk-color-below-ring', 'veil-color', 'ring-number', 'ring-type',\n",
       "       'spore-print-color', 'population', 'habitat'],\n",
       "      dtype='object')"
      ]
     },
     "execution_count": 13,
     "metadata": {},
     "output_type": "execute_result"
    }
   ],
   "source": [
    "df.columns"
   ]
  },
  {
   "cell_type": "markdown",
   "id": "ace953b8-4136-4fbe-b787-2ca4ec48de84",
   "metadata": {},
   "source": [
    "# Data Visualizations"
   ]
  },
  {
   "cell_type": "markdown",
   "id": "0138f264-354c-4354-b993-6fc5e6622c60",
   "metadata": {},
   "source": [
    "### Count of edible vs poisonous mushroom. The target is encoded as 'e' for edible and 'p' for poisonous. \n",
    "There is no significant class imbalance between the two classes."
   ]
  },
  {
   "cell_type": "code",
   "execution_count": 21,
   "id": "e682d1d5-94a3-4fec-a358-17106a3b9d45",
   "metadata": {},
   "outputs": [
    {
     "data": {
      "image/png": "[encoded data removed]",
      "text/plain": [
       "<Figure size 640x480 with 1 Axes>"
      ]
     },
     "metadata": {},
     "output_type": "display_data"
    }
   ],
   "source": [
    "sns.countplot(x='class', data=df, hue='class')\n",
    "plt.title(\"Count of Poisonous and Edible Mushroom\")\n",
    "for container in plt.gca().containers:\n",
    "    plt.bar_label(container)\n",
    "plt.show()"
   ]
  },
  {
   "cell_type": "code",
   "execution_count": 19,
   "id": "aa477937-15c2-4869-82bc-38a21d152590",
   "metadata": {},
   "outputs": [
    {
     "data": {
      "image/png": "[encoded data removed]",
      "text/plain": [
       "<Figure size 800x600 with 1 Axes>"
      ]
     },
     "metadata": {},
     "output_type": "display_data"
    }
   ],
   "source": [
    "#get the percentage of p and e, then visualize using pie chart\n",
    "proportion=df.groupby('class').size() / len(df) * 100\n",
    "\n",
    "#Plot\n",
    "plt.figure(figsize=(8, 6))\n",
    "plt.pie(proportion, labels=['Edible', 'Poisonous'], autopct='%1.1f%%', startangle=90)\n",
    "plt.title('Percentage of Edible and Poisonous Mushrooms')\n",
    "plt.show()"
   ]
  },
  {
   "cell_type": "markdown",
   "id": "807c8d96-8067-467c-8a5b-4ac613527408",
   "metadata": {},
   "source": [
    "### Class Distribution by Feature Category (%)\n",
    "\n",
    "This visualization shows the proportion of edible vs. poisonous mushrooms within each category of a feature. For example, given that gill-color = black, what percentage of those mushrooms are edible vs. poisonous? \n",
    "\n",
    "**P(class | feature category)**\n",
    "- What is the probability of a class (edible or poisonous) given a specific feature category?"
   ]
  },
  {
   "cell_type": "code",
   "execution_count": 47,
   "id": "5aa61e6b-0f86-4bd1-8035-e69c991d495a",
   "metadata": {},
   "outputs": [],
   "source": [
    "# Function to calculate percentages of each class (poisonous or edible) within categories of a feature\n",
    "\n",
    "def class_percentage_in_category(df, feature, target='class'):\n",
    "    \n",
    "    #Group by feature and class, then count each occurrence\n",
    "    percent_df = df.groupby([feature, target]).size().reset_index(name='count')\n",
    "    \n",
    "    #For each category in a feature, get the total occurences\n",
    "    total_per_category = percent_df.groupby(feature)['count'].transform('sum')\n",
    "    \n",
    "    #Calculate percentage of each class within the category\n",
    "    percent_df['percentage'] = percent_df['count'] / total_per_category * 100\n",
    "\n",
    "    return percent_df"
   ]
  },
  {
   "cell_type": "code",
   "execution_count": 48,
   "id": "a40fe263-5c0c-413c-b8c9-a98c5b1085de",
   "metadata": {},
   "outputs": [
    {
     "data": {
      "image/png": "[encoded data removed]",
      "text/plain": [
       "<Figure size 2000x2400 with 24 Axes>"
      ]
     },
     "metadata": {},
     "output_type": "display_data"
    }
   ],
   "source": [
    "select_df = df.drop(columns=['class'])  #Drop target variable\n",
    "n_cols = 4\n",
    "n_rows = (len(select_df.columns) + n_cols - 1) // n_cols\n",
    "\n",
    "fig, axes = plt.subplots(n_rows, n_cols, figsize=(20, 4 * n_rows))\n",
    "\n",
    "for i, col in enumerate(select_df.columns):\n",
    "    row = i // n_cols\n",
    "    col_idx = i % n_cols\n",
    "    ax = axes[row, col_idx]\n",
    "\n",
    "    percent_df=class_percentage_in_category(df, col)\n",
    "\n",
    "    #Plot\n",
    "    sns.barplot(data=percent_df, x=col, y='percentage', hue='class', ax=ax, )\n",
    "    ax.set_title(f\"{col} vs class (percent)\")\n",
    "    ax.set_ylabel(\"Percentage\")\n",
    "    ax.tick_params(axis='x')\n",
    "\n",
    "plt.tight_layout(pad=0.5)"
   ]
  },
  {
   "cell_type": "markdown",
   "id": "9e514b46-6392-4f3b-8f00-1995808b30ec",
   "metadata": {},
   "source": [
    "From these graphs, we can see that odor, stalk-color-above-ring, stalk-color-below-ring, spore-print-color, and gill-size are good  features to explore since they show a good distinction of class within each category. \n",
    "\n",
    "**Odor** is especially one of the most discriminative features for predicting mushroom class.\n",
    "\n",
    "Mushrooms with odor = almond (a), anise (l), none (n) are nearly 100% edible in this dataset.\n",
    "\n",
    "Mushrooms with odor = creosote (c), fishy (y), foul (f), musty (m), pungent (p), spicy (s), are associated with 100% poisonous mushrooms.\n",
    "\n",
    "This means that the odor feature can serve as a reliable predictor for classifying mushrooms, especially coupled with the other features."
   ]
  },
  {
   "cell_type": "code",
   "execution_count": 100,
   "id": "c700031b-d75c-40e1-8a74-0591da17ed37",
   "metadata": {
    "scrolled": true
   },
   "outputs": [
    {
     "name": "stdout",
     "output_type": "stream",
     "text": [
      "Frequency table for cap-shape:\n",
      "  cap-shape class  count  percentage\n",
      "0         b     e    404   89.380531\n",
      "1         b     p     48   10.619469\n",
      "2         c     p      4  100.000000\n",
      "3         f     e   1596   50.634518\n",
      "4         f     p   1556   49.365482\n",
      "5         k     e    228   27.536232\n",
      "6         k     p    600   72.463768\n",
      "7         s     e     32  100.000000\n",
      "8         x     e   1948   53.282276\n",
      "9         x     p   1708   46.717724\n",
      "\n",
      "--------------------------------------------------\n",
      "\n",
      "Frequency table for cap-surface:\n",
      "  cap-surface class  count  percentage\n",
      "0           f     e   1560   67.241379\n",
      "1           f     p    760   32.758621\n",
      "2           g     p      4  100.000000\n",
      "3           s     e   1144   44.757433\n",
      "4           s     p   1412   55.242567\n",
      "5           y     e   1504   46.362515\n",
      "6           y     p   1740   53.637485\n",
      "\n",
      "--------------------------------------------------\n",
      "\n",
      "Frequency table for cap-color:\n",
      "   cap-color class  count  percentage\n",
      "0          b     e     48   28.571429\n",
      "1          b     p    120   71.428571\n",
      "2          c     e     32   72.727273\n",
      "3          c     p     12   27.272727\n",
      "4          e     e    624   41.600000\n",
      "5          e     p    876   58.400000\n",
      "6          g     e   1032   56.086957\n",
      "7          g     p    808   43.913043\n",
      "8          n     e   1264   55.341506\n",
      "9          n     p   1020   44.658494\n",
      "10         p     e     56   38.888889\n",
      "11         p     p     88   61.111111\n",
      "12         r     e     16  100.000000\n",
      "13         u     e     16  100.000000\n",
      "14         w     e    720   69.230769\n",
      "15         w     p    320   30.769231\n",
      "16         y     e    400   37.313433\n",
      "17         y     p    672   62.686567\n",
      "\n",
      "--------------------------------------------------\n",
      "\n",
      "Frequency table for bruises:\n",
      "  bruises class  count  percentage\n",
      "0       f     e   1456   30.665543\n",
      "1       f     p   3292   69.334457\n",
      "2       t     e   2752   81.516588\n",
      "3       t     p    624   18.483412\n",
      "\n",
      "--------------------------------------------------\n",
      "\n",
      "Frequency table for odor:\n",
      "  odor class  count  percentage\n",
      "0    a     e    400  100.000000\n",
      "1    c     p    192  100.000000\n",
      "2    f     p   2160  100.000000\n",
      "3    l     e    400  100.000000\n",
      "4    m     p     36  100.000000\n",
      "5    n     e   3408   96.598639\n",
      "6    n     p    120    3.401361\n",
      "7    p     p    256  100.000000\n",
      "8    s     p    576  100.000000\n",
      "9    y     p    576  100.000000\n",
      "\n",
      "--------------------------------------------------\n",
      "\n",
      "Frequency table for gill-attachment:\n",
      "  gill-attachment class  count  percentage\n",
      "0               a     e    192   91.428571\n",
      "1               a     p     18    8.571429\n",
      "2               f     e   4016   50.745514\n",
      "3               f     p   3898   49.254486\n",
      "\n",
      "--------------------------------------------------\n",
      "\n",
      "Frequency table for gill-spacing:\n",
      "  gill-spacing class  count  percentage\n",
      "0            c     e   3008   44.157369\n",
      "1            c     p   3804   55.842631\n",
      "2            w     e   1200   91.463415\n",
      "3            w     p    112    8.536585\n",
      "\n",
      "--------------------------------------------------\n",
      "\n",
      "Frequency table for gill-size:\n",
      "  gill-size class  count  percentage\n",
      "0         b     e   3920   69.850321\n",
      "1         b     p   1692   30.149679\n",
      "2         n     e    288   11.464968\n",
      "3         n     p   2224   88.535032\n",
      "\n",
      "--------------------------------------------------\n",
      "\n",
      "Frequency table for gill-color:\n",
      "   gill-color class  count  percentage\n",
      "0           b     p   1728  100.000000\n",
      "1           e     e     96  100.000000\n",
      "2           g     e    248   32.978723\n",
      "3           g     p    504   67.021277\n",
      "4           h     e    204   27.868852\n",
      "5           h     p    528   72.131148\n",
      "6           k     e    344   84.313725\n",
      "7           k     p     64   15.686275\n",
      "8           n     e    936   89.312977\n",
      "9           n     p    112   10.687023\n",
      "10          o     e     64  100.000000\n",
      "11          p     e    852   57.104558\n",
      "12          p     p    640   42.895442\n",
      "13          r     p     24  100.000000\n",
      "14          u     e    444   90.243902\n",
      "15          u     p     48    9.756098\n",
      "16          w     e    956   79.534110\n",
      "17          w     p    246   20.465890\n",
      "18          y     e     64   74.418605\n",
      "19          y     p     22   25.581395\n",
      "\n",
      "--------------------------------------------------\n",
      "\n",
      "Frequency table for stalk-shape:\n",
      "  stalk-shape class  count  percentage\n",
      "0           e     e   1616    45.96132\n",
      "1           e     p   1900    54.03868\n",
      "2           t     e   2592    56.25000\n",
      "3           t     p   2016    43.75000\n",
      "\n",
      "--------------------------------------------------\n",
      "\n",
      "Frequency table for stalk-root:\n",
      "  stalk-root class  count  percentage\n",
      "0          ?     e    720   29.032258\n",
      "1          ?     p   1760   70.967742\n",
      "2          b     e   1920   50.847458\n",
      "3          b     p   1856   49.152542\n",
      "4          c     e    512   92.086331\n",
      "5          c     p     44    7.913669\n",
      "6          e     e    864   77.142857\n",
      "7          e     p    256   22.857143\n",
      "8          r     e    192  100.000000\n",
      "\n",
      "--------------------------------------------------\n",
      "\n",
      "Frequency table for stalk-surface-above-ring:\n",
      "  stalk-surface-above-ring class  count  percentage\n",
      "0                        f     e    408   73.913043\n",
      "1                        f     p    144   26.086957\n",
      "2                        k     e    144    6.070826\n",
      "3                        k     p   2228   93.929174\n",
      "4                        s     e   3640   70.324575\n",
      "5                        s     p   1536   29.675425\n",
      "6                        y     e     16   66.666667\n",
      "7                        y     p      8   33.333333\n",
      "\n",
      "--------------------------------------------------\n",
      "\n",
      "Frequency table for stalk-surface-below-ring:\n",
      "  stalk-surface-below-ring class  count  percentage\n",
      "0                        f     e    456   76.000000\n",
      "1                        f     p    144   24.000000\n",
      "2                        k     e    144    6.250000\n",
      "3                        k     p   2160   93.750000\n",
      "4                        s     e   3400   68.881686\n",
      "5                        s     p   1536   31.118314\n",
      "6                        y     e    208   73.239437\n",
      "7                        y     p     76   26.760563\n",
      "\n",
      "--------------------------------------------------\n",
      "\n",
      "Frequency table for stalk-color-above-ring:\n",
      "   stalk-color-above-ring class  count  percentage\n",
      "0                       b     p    432  100.000000\n",
      "1                       c     p     36  100.000000\n",
      "2                       e     e     96  100.000000\n",
      "3                       g     e    576  100.000000\n",
      "4                       n     e     16    3.571429\n",
      "5                       n     p    432   96.428571\n",
      "6                       o     e    192  100.000000\n",
      "7                       p     e    576   30.769231\n",
      "8                       p     p   1296   69.230769\n",
      "9                       w     e   2752   61.648746\n",
      "10                      w     p   1712   38.351254\n",
      "11                      y     p      8  100.000000\n",
      "\n",
      "--------------------------------------------------\n",
      "\n",
      "Frequency table for stalk-color-below-ring:\n",
      "   stalk-color-below-ring class  count  percentage\n",
      "0                       b     p    432  100.000000\n",
      "1                       c     p     36  100.000000\n",
      "2                       e     e     96  100.000000\n",
      "3                       g     e    576  100.000000\n",
      "4                       n     e     64   12.500000\n",
      "5                       n     p    448   87.500000\n",
      "6                       o     e    192  100.000000\n",
      "7                       p     e    576   30.769231\n",
      "8                       p     p   1296   69.230769\n",
      "9                       w     e   2704   61.678832\n",
      "10                      w     p   1680   38.321168\n",
      "11                      y     p     24  100.000000\n",
      "\n",
      "--------------------------------------------------\n",
      "\n",
      "Frequency table for veil-color:\n",
      "  veil-color class  count  percentage\n",
      "0          n     e     96  100.000000\n",
      "1          o     e     96  100.000000\n",
      "2          w     e   4016   50.681474\n",
      "3          w     p   3908   49.318526\n",
      "4          y     p      8  100.000000\n",
      "\n",
      "--------------------------------------------------\n",
      "\n",
      "Frequency table for ring-number:\n",
      "  ring-number class  count  percentage\n",
      "0           n     p     36  100.000000\n",
      "1           o     e   3680   49.145299\n",
      "2           o     p   3808   50.854701\n",
      "3           t     e    528   88.000000\n",
      "4           t     p     72   12.000000\n",
      "\n",
      "--------------------------------------------------\n",
      "\n",
      "Frequency table for ring-type:\n",
      "  ring-type class  count  percentage\n",
      "0         e     e   1008   36.311239\n",
      "1         e     p   1768   63.688761\n",
      "2         f     e     48  100.000000\n",
      "3         l     p   1296  100.000000\n",
      "4         n     p     36  100.000000\n",
      "5         p     e   3152   79.435484\n",
      "6         p     p    816   20.564516\n",
      "\n",
      "--------------------------------------------------\n",
      "\n",
      "Frequency table for spore-print-color:\n",
      "   spore-print-color class  count  percentage\n",
      "0                  b     e     48  100.000000\n",
      "1                  h     e     48    2.941176\n",
      "2                  h     p   1584   97.058824\n",
      "3                  k     e   1648   88.034188\n",
      "4                  k     p    224   11.965812\n",
      "5                  n     e   1744   88.617886\n",
      "6                  n     p    224   11.382114\n",
      "7                  o     e     48  100.000000\n",
      "8                  r     p     72  100.000000\n",
      "9                  u     e     48  100.000000\n",
      "10                 w     e    576   24.120603\n",
      "11                 w     p   1812   75.879397\n",
      "12                 y     e     48  100.000000\n",
      "\n",
      "--------------------------------------------------\n",
      "\n",
      "Frequency table for population:\n",
      "  population class  count  percentage\n",
      "0          a     e    384  100.000000\n",
      "1          c     e    288   84.705882\n",
      "2          c     p     52   15.294118\n",
      "3          n     e    400  100.000000\n",
      "4          s     e    880   70.512821\n",
      "5          s     p    368   29.487179\n",
      "6          v     e   1192   29.504950\n",
      "7          v     p   2848   70.495050\n",
      "8          y     e   1064   62.149533\n",
      "9          y     p    648   37.850467\n",
      "\n",
      "--------------------------------------------------\n",
      "\n",
      "Frequency table for habitat:\n",
      "   habitat class  count  percentage\n",
      "0        d     e   1880   59.720457\n",
      "1        d     p   1268   40.279543\n",
      "2        g     e   1408   65.549348\n",
      "3        g     p    740   34.450652\n",
      "4        l     e    240   28.846154\n",
      "5        l     p    592   71.153846\n",
      "6        m     e    256   87.671233\n",
      "7        m     p     36   12.328767\n",
      "8        p     e    136   11.888112\n",
      "9        p     p   1008   88.111888\n",
      "10       u     e     96   26.086957\n",
      "11       u     p    272   73.913043\n",
      "12       w     e    192  100.000000\n",
      "\n",
      "--------------------------------------------------\n",
      "\n"
     ]
    }
   ],
   "source": [
    "for col in select_df.columns:\n",
    "    percent_df = class_percentage_in_category(df, col)\n",
    "    print(f\"Frequency table for {col}:\")\n",
    "    print(percent_df)\n",
    "    print(\"\\n\" + \"-\"*50 + \"\\n\")\n"
   ]
  },
  {
   "cell_type": "markdown",
   "id": "482ff264-14c9-4ddc-8ea0-55e28341d562",
   "metadata": {},
   "source": [
    "### Feature Distribution within Each Class (%)\n",
    "\n",
    "Now we want to see how each feature category is distributed within classes (edible vs. poisonous). For example, among edible mushrooms, what is the percentage that odor = almond?\n",
    "\n",
    "**P(feature category | class)**\n",
    "\n",
    "- What is the probability of a specific feature category given a class (edible or poisonous)."
   ]
  },
  {
   "cell_type": "code",
   "execution_count": 101,
   "id": "4b8deef9-f797-403d-abc0-d26b9a90fbd8",
   "metadata": {},
   "outputs": [],
   "source": [
    "def compare_categorical(df,column_name,selections,**kwargs):\n",
    "    out = list()\n",
    "    values = df[column_name].unique()\n",
    "    \n",
    "    for label,selection in selections.items():        \n",
    "        total = np.sum(selection)\n",
    "        df_0=df[selection]\n",
    "        out.append([label] + [ np.sum(df_0[column_name]==val)/total for val in values ])\n",
    "        \n",
    "    return out,values"
   ]
  },
  {
   "cell_type": "code",
   "execution_count": 102,
   "id": "553620c9-5a0b-4425-a21d-dff4ffeb0af8",
   "metadata": {},
   "outputs": [],
   "source": [
    "from IPython.display import HTML, display\n",
    "import tabulate"
   ]
  },
  {
   "cell_type": "code",
   "execution_count": 107,
   "id": "c5d18411-ead8-4ac1-9624-f31029835d9c",
   "metadata": {
    "scrolled": true
   },
   "outputs": [
    {
     "name": "stdout",
     "output_type": "stream",
     "text": [
      " \n",
      "cap-shape\n"
     ]
    },
    {
     "data": {
      "text/html": [
       "<table>\n",
       "<thead>\n",
       "<tr><th>         </th><th style=\"text-align: right;\">       x</th><th style=\"text-align: right;\">        b</th><th style=\"text-align: right;\">         s</th><th style=\"text-align: right;\">       f</th><th style=\"text-align: right;\">        k</th><th style=\"text-align: right;\">         c</th></tr>\n",
       "</thead>\n",
       "<tbody>\n",
       "<tr><td>Edible   </td><td style=\"text-align: right;\">0.462928</td><td style=\"text-align: right;\">0.0960076</td><td style=\"text-align: right;\">0.00760456</td><td style=\"text-align: right;\">0.379278</td><td style=\"text-align: right;\">0.0541825</td><td style=\"text-align: right;\">0         </td></tr>\n",
       "<tr><td>Poisonous</td><td style=\"text-align: right;\">0.436159</td><td style=\"text-align: right;\">0.0122574</td><td style=\"text-align: right;\">0         </td><td style=\"text-align: right;\">0.397344</td><td style=\"text-align: right;\">0.153218 </td><td style=\"text-align: right;\">0.00102145</td></tr>\n",
       "</tbody>\n",
       "</table>"
      ],
      "text/plain": [
       "<IPython.core.display.HTML object>"
      ]
     },
     "metadata": {},
     "output_type": "display_data"
    },
    {
     "name": "stdout",
     "output_type": "stream",
     "text": [
      " \n",
      "cap-surface\n"
     ]
    },
    {
     "data": {
      "text/html": [
       "<table>\n",
       "<thead>\n",
       "<tr><th>         </th><th style=\"text-align: right;\">       s</th><th style=\"text-align: right;\">       y</th><th style=\"text-align: right;\">       f</th><th style=\"text-align: right;\">         g</th></tr>\n",
       "</thead>\n",
       "<tbody>\n",
       "<tr><td>Edible   </td><td style=\"text-align: right;\">0.271863</td><td style=\"text-align: right;\">0.357414</td><td style=\"text-align: right;\">0.370722</td><td style=\"text-align: right;\">0         </td></tr>\n",
       "<tr><td>Poisonous</td><td style=\"text-align: right;\">0.360572</td><td style=\"text-align: right;\">0.444331</td><td style=\"text-align: right;\">0.194076</td><td style=\"text-align: right;\">0.00102145</td></tr>\n",
       "</tbody>\n",
       "</table>"
      ],
      "text/plain": [
       "<IPython.core.display.HTML object>"
      ]
     },
     "metadata": {},
     "output_type": "display_data"
    },
    {
     "name": "stdout",
     "output_type": "stream",
     "text": [
      " \n",
      "cap-color\n"
     ]
    },
    {
     "data": {
      "text/html": [
       "<table>\n",
       "<thead>\n",
       "<tr><th>         </th><th style=\"text-align: right;\">      n</th><th style=\"text-align: right;\">       y</th><th style=\"text-align: right;\">       w</th><th style=\"text-align: right;\">       g</th><th style=\"text-align: right;\">       e</th><th style=\"text-align: right;\">        p</th><th style=\"text-align: right;\">        b</th><th style=\"text-align: right;\">         u</th><th style=\"text-align: right;\">         c</th><th style=\"text-align: right;\">         r</th></tr>\n",
       "</thead>\n",
       "<tbody>\n",
       "<tr><td>Edible   </td><td style=\"text-align: right;\">0.30038</td><td style=\"text-align: right;\">0.095057</td><td style=\"text-align: right;\">0.171103</td><td style=\"text-align: right;\">0.245247</td><td style=\"text-align: right;\">0.148289</td><td style=\"text-align: right;\">0.013308 </td><td style=\"text-align: right;\">0.0114068</td><td style=\"text-align: right;\">0.00380228</td><td style=\"text-align: right;\">0.00760456</td><td style=\"text-align: right;\">0.00380228</td></tr>\n",
       "<tr><td>Poisonous</td><td style=\"text-align: right;\">0.26047</td><td style=\"text-align: right;\">0.171604</td><td style=\"text-align: right;\">0.081716</td><td style=\"text-align: right;\">0.206333</td><td style=\"text-align: right;\">0.223698</td><td style=\"text-align: right;\">0.0224719</td><td style=\"text-align: right;\">0.0306435</td><td style=\"text-align: right;\">0         </td><td style=\"text-align: right;\">0.00306435</td><td style=\"text-align: right;\">0         </td></tr>\n",
       "</tbody>\n",
       "</table>"
      ],
      "text/plain": [
       "<IPython.core.display.HTML object>"
      ]
     },
     "metadata": {},
     "output_type": "display_data"
    },
    {
     "name": "stdout",
     "output_type": "stream",
     "text": [
      " \n",
      "bruises\n"
     ]
    },
    {
     "data": {
      "text/html": [
       "<table>\n",
       "<thead>\n",
       "<tr><th>         </th><th style=\"text-align: right;\">       t</th><th style=\"text-align: right;\">       f</th></tr>\n",
       "</thead>\n",
       "<tbody>\n",
       "<tr><td>Edible   </td><td style=\"text-align: right;\">0.653992</td><td style=\"text-align: right;\">0.346008</td></tr>\n",
       "<tr><td>Poisonous</td><td style=\"text-align: right;\">0.159346</td><td style=\"text-align: right;\">0.840654</td></tr>\n",
       "</tbody>\n",
       "</table>"
      ],
      "text/plain": [
       "<IPython.core.display.HTML object>"
      ]
     },
     "metadata": {},
     "output_type": "display_data"
    },
    {
     "name": "stdout",
     "output_type": "stream",
     "text": [
      " \n",
      "odor\n"
     ]
    },
    {
     "data": {
      "text/html": [
       "<table>\n",
       "<thead>\n",
       "<tr><th>         </th><th style=\"text-align: right;\">        p</th><th style=\"text-align: right;\">       a</th><th style=\"text-align: right;\">       l</th><th style=\"text-align: right;\">        n</th><th style=\"text-align: right;\">       f</th><th style=\"text-align: right;\">        c</th><th style=\"text-align: right;\">       y</th><th style=\"text-align: right;\">       s</th><th style=\"text-align: right;\">         m</th></tr>\n",
       "</thead>\n",
       "<tbody>\n",
       "<tr><td>Edible   </td><td style=\"text-align: right;\">0        </td><td style=\"text-align: right;\">0.095057</td><td style=\"text-align: right;\">0.095057</td><td style=\"text-align: right;\">0.809886 </td><td style=\"text-align: right;\">0       </td><td style=\"text-align: right;\">0        </td><td style=\"text-align: right;\">0       </td><td style=\"text-align: right;\">0       </td><td style=\"text-align: right;\">0         </td></tr>\n",
       "<tr><td>Poisonous</td><td style=\"text-align: right;\">0.0653728</td><td style=\"text-align: right;\">0       </td><td style=\"text-align: right;\">0       </td><td style=\"text-align: right;\">0.0306435</td><td style=\"text-align: right;\">0.551583</td><td style=\"text-align: right;\">0.0490296</td><td style=\"text-align: right;\">0.147089</td><td style=\"text-align: right;\">0.147089</td><td style=\"text-align: right;\">0.00919305</td></tr>\n",
       "</tbody>\n",
       "</table>"
      ],
      "text/plain": [
       "<IPython.core.display.HTML object>"
      ]
     },
     "metadata": {},
     "output_type": "display_data"
    },
    {
     "name": "stdout",
     "output_type": "stream",
     "text": [
      " \n",
      "gill-attachment\n"
     ]
    },
    {
     "data": {
      "text/html": [
       "<table>\n",
       "<thead>\n",
       "<tr><th>         </th><th style=\"text-align: right;\">       f</th><th style=\"text-align: right;\">         a</th></tr>\n",
       "</thead>\n",
       "<tbody>\n",
       "<tr><td>Edible   </td><td style=\"text-align: right;\">0.954373</td><td style=\"text-align: right;\">0.0456274 </td></tr>\n",
       "<tr><td>Poisonous</td><td style=\"text-align: right;\">0.995403</td><td style=\"text-align: right;\">0.00459653</td></tr>\n",
       "</tbody>\n",
       "</table>"
      ],
      "text/plain": [
       "<IPython.core.display.HTML object>"
      ]
     },
     "metadata": {},
     "output_type": "display_data"
    },
    {
     "name": "stdout",
     "output_type": "stream",
     "text": [
      " \n",
      "gill-spacing\n"
     ]
    },
    {
     "data": {
      "text/html": [
       "<table>\n",
       "<thead>\n",
       "<tr><th>         </th><th style=\"text-align: right;\">       c</th><th style=\"text-align: right;\">        w</th></tr>\n",
       "</thead>\n",
       "<tbody>\n",
       "<tr><td>Edible   </td><td style=\"text-align: right;\">0.714829</td><td style=\"text-align: right;\">0.285171 </td></tr>\n",
       "<tr><td>Poisonous</td><td style=\"text-align: right;\">0.971399</td><td style=\"text-align: right;\">0.0286006</td></tr>\n",
       "</tbody>\n",
       "</table>"
      ],
      "text/plain": [
       "<IPython.core.display.HTML object>"
      ]
     },
     "metadata": {},
     "output_type": "display_data"
    },
    {
     "name": "stdout",
     "output_type": "stream",
     "text": [
      " \n",
      "gill-size\n"
     ]
    },
    {
     "data": {
      "text/html": [
       "<table>\n",
       "<thead>\n",
       "<tr><th>         </th><th style=\"text-align: right;\">        n</th><th style=\"text-align: right;\">       b</th></tr>\n",
       "</thead>\n",
       "<tbody>\n",
       "<tr><td>Edible   </td><td style=\"text-align: right;\">0.0684411</td><td style=\"text-align: right;\">0.931559</td></tr>\n",
       "<tr><td>Poisonous</td><td style=\"text-align: right;\">0.567926 </td><td style=\"text-align: right;\">0.432074</td></tr>\n",
       "</tbody>\n",
       "</table>"
      ],
      "text/plain": [
       "<IPython.core.display.HTML object>"
      ]
     },
     "metadata": {},
     "output_type": "display_data"
    },
    {
     "name": "stdout",
     "output_type": "stream",
     "text": [
      " \n",
      "gill-color\n"
     ]
    },
    {
     "data": {
      "text/html": [
       "<table>\n",
       "<thead>\n",
       "<tr><th>         </th><th style=\"text-align: right;\">        k</th><th style=\"text-align: right;\">        n</th><th style=\"text-align: right;\">        g</th><th style=\"text-align: right;\">       p</th><th style=\"text-align: right;\">        w</th><th style=\"text-align: right;\">        h</th><th style=\"text-align: right;\">        u</th><th style=\"text-align: right;\">        e</th><th style=\"text-align: right;\">       b</th><th style=\"text-align: right;\">        r</th><th style=\"text-align: right;\">         y</th><th style=\"text-align: right;\">        o</th></tr>\n",
       "</thead>\n",
       "<tbody>\n",
       "<tr><td>Edible   </td><td style=\"text-align: right;\">0.081749 </td><td style=\"text-align: right;\">0.222433 </td><td style=\"text-align: right;\">0.0589354</td><td style=\"text-align: right;\">0.202471</td><td style=\"text-align: right;\">0.227186 </td><td style=\"text-align: right;\">0.0484791</td><td style=\"text-align: right;\">0.105513 </td><td style=\"text-align: right;\">0.0228137</td><td style=\"text-align: right;\">0       </td><td style=\"text-align: right;\">0        </td><td style=\"text-align: right;\">0.0152091 </td><td style=\"text-align: right;\">0.0152091</td></tr>\n",
       "<tr><td>Poisonous</td><td style=\"text-align: right;\">0.0163432</td><td style=\"text-align: right;\">0.0286006</td><td style=\"text-align: right;\">0.128703 </td><td style=\"text-align: right;\">0.163432</td><td style=\"text-align: right;\">0.0628192</td><td style=\"text-align: right;\">0.134831 </td><td style=\"text-align: right;\">0.0122574</td><td style=\"text-align: right;\">0        </td><td style=\"text-align: right;\">0.441267</td><td style=\"text-align: right;\">0.0061287</td><td style=\"text-align: right;\">0.00561798</td><td style=\"text-align: right;\">0        </td></tr>\n",
       "</tbody>\n",
       "</table>"
      ],
      "text/plain": [
       "<IPython.core.display.HTML object>"
      ]
     },
     "metadata": {},
     "output_type": "display_data"
    },
    {
     "name": "stdout",
     "output_type": "stream",
     "text": [
      " \n",
      "stalk-shape\n"
     ]
    },
    {
     "data": {
      "text/html": [
       "<table>\n",
       "<thead>\n",
       "<tr><th>         </th><th style=\"text-align: right;\">       e</th><th style=\"text-align: right;\">       t</th></tr>\n",
       "</thead>\n",
       "<tbody>\n",
       "<tr><td>Edible   </td><td style=\"text-align: right;\">0.38403 </td><td style=\"text-align: right;\">0.61597 </td></tr>\n",
       "<tr><td>Poisonous</td><td style=\"text-align: right;\">0.485189</td><td style=\"text-align: right;\">0.514811</td></tr>\n",
       "</tbody>\n",
       "</table>"
      ],
      "text/plain": [
       "<IPython.core.display.HTML object>"
      ]
     },
     "metadata": {},
     "output_type": "display_data"
    },
    {
     "name": "stdout",
     "output_type": "stream",
     "text": [
      " \n",
      "stalk-root\n"
     ]
    },
    {
     "data": {
      "text/html": [
       "<table>\n",
       "<thead>\n",
       "<tr><th>         </th><th style=\"text-align: right;\">        e</th><th style=\"text-align: right;\">       c</th><th style=\"text-align: right;\">       b</th><th style=\"text-align: right;\">        r</th><th style=\"text-align: right;\">       ?</th></tr>\n",
       "</thead>\n",
       "<tbody>\n",
       "<tr><td>Edible   </td><td style=\"text-align: right;\">0.205323 </td><td style=\"text-align: right;\">0.121673</td><td style=\"text-align: right;\">0.456274</td><td style=\"text-align: right;\">0.0456274</td><td style=\"text-align: right;\">0.171103</td></tr>\n",
       "<tr><td>Poisonous</td><td style=\"text-align: right;\">0.0653728</td><td style=\"text-align: right;\">0.011236</td><td style=\"text-align: right;\">0.473953</td><td style=\"text-align: right;\">0        </td><td style=\"text-align: right;\">0.449438</td></tr>\n",
       "</tbody>\n",
       "</table>"
      ],
      "text/plain": [
       "<IPython.core.display.HTML object>"
      ]
     },
     "metadata": {},
     "output_type": "display_data"
    },
    {
     "name": "stdout",
     "output_type": "stream",
     "text": [
      " \n",
      "stalk-surface-above-ring\n"
     ]
    },
    {
     "data": {
      "text/html": [
       "<table>\n",
       "<thead>\n",
       "<tr><th>         </th><th style=\"text-align: right;\">       s</th><th style=\"text-align: right;\">        f</th><th style=\"text-align: right;\">        k</th><th style=\"text-align: right;\">         y</th></tr>\n",
       "</thead>\n",
       "<tbody>\n",
       "<tr><td>Edible   </td><td style=\"text-align: right;\">0.865019</td><td style=\"text-align: right;\">0.0969582</td><td style=\"text-align: right;\">0.0342205</td><td style=\"text-align: right;\">0.00380228</td></tr>\n",
       "<tr><td>Poisonous</td><td style=\"text-align: right;\">0.392237</td><td style=\"text-align: right;\">0.0367722</td><td style=\"text-align: right;\">0.568948 </td><td style=\"text-align: right;\">0.0020429 </td></tr>\n",
       "</tbody>\n",
       "</table>"
      ],
      "text/plain": [
       "<IPython.core.display.HTML object>"
      ]
     },
     "metadata": {},
     "output_type": "display_data"
    },
    {
     "name": "stdout",
     "output_type": "stream",
     "text": [
      " \n",
      "stalk-surface-below-ring\n"
     ]
    },
    {
     "data": {
      "text/html": [
       "<table>\n",
       "<thead>\n",
       "<tr><th>         </th><th style=\"text-align: right;\">       s</th><th style=\"text-align: right;\">        f</th><th style=\"text-align: right;\">        y</th><th style=\"text-align: right;\">        k</th></tr>\n",
       "</thead>\n",
       "<tbody>\n",
       "<tr><td>Edible   </td><td style=\"text-align: right;\">0.807985</td><td style=\"text-align: right;\">0.108365 </td><td style=\"text-align: right;\">0.0494297</td><td style=\"text-align: right;\">0.0342205</td></tr>\n",
       "<tr><td>Poisonous</td><td style=\"text-align: right;\">0.392237</td><td style=\"text-align: right;\">0.0367722</td><td style=\"text-align: right;\">0.0194076</td><td style=\"text-align: right;\">0.551583 </td></tr>\n",
       "</tbody>\n",
       "</table>"
      ],
      "text/plain": [
       "<IPython.core.display.HTML object>"
      ]
     },
     "metadata": {},
     "output_type": "display_data"
    },
    {
     "name": "stdout",
     "output_type": "stream",
     "text": [
      " \n",
      "stalk-color-above-ring\n"
     ]
    },
    {
     "data": {
      "text/html": [
       "<table>\n",
       "<thead>\n",
       "<tr><th>         </th><th style=\"text-align: right;\">       w</th><th style=\"text-align: right;\">       g</th><th style=\"text-align: right;\">       p</th><th style=\"text-align: right;\">         n</th><th style=\"text-align: right;\">       b</th><th style=\"text-align: right;\">        e</th><th style=\"text-align: right;\">        o</th><th style=\"text-align: right;\">         c</th><th style=\"text-align: right;\">        y</th></tr>\n",
       "</thead>\n",
       "<tbody>\n",
       "<tr><td>Edible   </td><td style=\"text-align: right;\">0.653992</td><td style=\"text-align: right;\">0.136882</td><td style=\"text-align: right;\">0.136882</td><td style=\"text-align: right;\">0.00380228</td><td style=\"text-align: right;\">0       </td><td style=\"text-align: right;\">0.0228137</td><td style=\"text-align: right;\">0.0456274</td><td style=\"text-align: right;\">0         </td><td style=\"text-align: right;\">0        </td></tr>\n",
       "<tr><td>Poisonous</td><td style=\"text-align: right;\">0.437181</td><td style=\"text-align: right;\">0       </td><td style=\"text-align: right;\">0.33095 </td><td style=\"text-align: right;\">0.110317  </td><td style=\"text-align: right;\">0.110317</td><td style=\"text-align: right;\">0        </td><td style=\"text-align: right;\">0        </td><td style=\"text-align: right;\">0.00919305</td><td style=\"text-align: right;\">0.0020429</td></tr>\n",
       "</tbody>\n",
       "</table>"
      ],
      "text/plain": [
       "<IPython.core.display.HTML object>"
      ]
     },
     "metadata": {},
     "output_type": "display_data"
    },
    {
     "name": "stdout",
     "output_type": "stream",
     "text": [
      " \n",
      "stalk-color-below-ring\n"
     ]
    },
    {
     "data": {
      "text/html": [
       "<table>\n",
       "<thead>\n",
       "<tr><th>         </th><th style=\"text-align: right;\">       w</th><th style=\"text-align: right;\">       p</th><th style=\"text-align: right;\">       g</th><th style=\"text-align: right;\">       b</th><th style=\"text-align: right;\">        n</th><th style=\"text-align: right;\">        e</th><th style=\"text-align: right;\">        y</th><th style=\"text-align: right;\">        o</th><th style=\"text-align: right;\">         c</th></tr>\n",
       "</thead>\n",
       "<tbody>\n",
       "<tr><td>Edible   </td><td style=\"text-align: right;\">0.642586</td><td style=\"text-align: right;\">0.136882</td><td style=\"text-align: right;\">0.136882</td><td style=\"text-align: right;\">0       </td><td style=\"text-align: right;\">0.0152091</td><td style=\"text-align: right;\">0.0228137</td><td style=\"text-align: right;\">0        </td><td style=\"text-align: right;\">0.0456274</td><td style=\"text-align: right;\">0         </td></tr>\n",
       "<tr><td>Poisonous</td><td style=\"text-align: right;\">0.429009</td><td style=\"text-align: right;\">0.33095 </td><td style=\"text-align: right;\">0       </td><td style=\"text-align: right;\">0.110317</td><td style=\"text-align: right;\">0.114402 </td><td style=\"text-align: right;\">0        </td><td style=\"text-align: right;\">0.0061287</td><td style=\"text-align: right;\">0        </td><td style=\"text-align: right;\">0.00919305</td></tr>\n",
       "</tbody>\n",
       "</table>"
      ],
      "text/plain": [
       "<IPython.core.display.HTML object>"
      ]
     },
     "metadata": {},
     "output_type": "display_data"
    },
    {
     "name": "stdout",
     "output_type": "stream",
     "text": [
      " \n",
      "veil-color\n"
     ]
    },
    {
     "data": {
      "text/html": [
       "<table>\n",
       "<thead>\n",
       "<tr><th>         </th><th style=\"text-align: right;\">       w</th><th style=\"text-align: right;\">        n</th><th style=\"text-align: right;\">        o</th><th style=\"text-align: right;\">        y</th></tr>\n",
       "</thead>\n",
       "<tbody>\n",
       "<tr><td>Edible   </td><td style=\"text-align: right;\">0.954373</td><td style=\"text-align: right;\">0.0228137</td><td style=\"text-align: right;\">0.0228137</td><td style=\"text-align: right;\">0        </td></tr>\n",
       "<tr><td>Poisonous</td><td style=\"text-align: right;\">0.997957</td><td style=\"text-align: right;\">0        </td><td style=\"text-align: right;\">0        </td><td style=\"text-align: right;\">0.0020429</td></tr>\n",
       "</tbody>\n",
       "</table>"
      ],
      "text/plain": [
       "<IPython.core.display.HTML object>"
      ]
     },
     "metadata": {},
     "output_type": "display_data"
    },
    {
     "name": "stdout",
     "output_type": "stream",
     "text": [
      " \n",
      "ring-number\n"
     ]
    },
    {
     "data": {
      "text/html": [
       "<table>\n",
       "<thead>\n",
       "<tr><th>         </th><th style=\"text-align: right;\">       o</th><th style=\"text-align: right;\">        t</th><th style=\"text-align: right;\">         n</th></tr>\n",
       "</thead>\n",
       "<tbody>\n",
       "<tr><td>Edible   </td><td style=\"text-align: right;\">0.874525</td><td style=\"text-align: right;\">0.125475 </td><td style=\"text-align: right;\">0         </td></tr>\n",
       "<tr><td>Poisonous</td><td style=\"text-align: right;\">0.972421</td><td style=\"text-align: right;\">0.0183861</td><td style=\"text-align: right;\">0.00919305</td></tr>\n",
       "</tbody>\n",
       "</table>"
      ],
      "text/plain": [
       "<IPython.core.display.HTML object>"
      ]
     },
     "metadata": {},
     "output_type": "display_data"
    },
    {
     "name": "stdout",
     "output_type": "stream",
     "text": [
      " \n",
      "ring-type\n"
     ]
    },
    {
     "data": {
      "text/html": [
       "<table>\n",
       "<thead>\n",
       "<tr><th>         </th><th style=\"text-align: right;\">       p</th><th style=\"text-align: right;\">       e</th><th style=\"text-align: right;\">      l</th><th style=\"text-align: right;\">        f</th><th style=\"text-align: right;\">         n</th></tr>\n",
       "</thead>\n",
       "<tbody>\n",
       "<tr><td>Edible   </td><td style=\"text-align: right;\">0.749049</td><td style=\"text-align: right;\">0.239544</td><td style=\"text-align: right;\">0      </td><td style=\"text-align: right;\">0.0114068</td><td style=\"text-align: right;\">0         </td></tr>\n",
       "<tr><td>Poisonous</td><td style=\"text-align: right;\">0.208376</td><td style=\"text-align: right;\">0.451481</td><td style=\"text-align: right;\">0.33095</td><td style=\"text-align: right;\">0        </td><td style=\"text-align: right;\">0.00919305</td></tr>\n",
       "</tbody>\n",
       "</table>"
      ],
      "text/plain": [
       "<IPython.core.display.HTML object>"
      ]
     },
     "metadata": {},
     "output_type": "display_data"
    },
    {
     "name": "stdout",
     "output_type": "stream",
     "text": [
      " \n",
      "spore-print-color\n"
     ]
    },
    {
     "data": {
      "text/html": [
       "<table>\n",
       "<thead>\n",
       "<tr><th>         </th><th style=\"text-align: right;\">        k</th><th style=\"text-align: right;\">        n</th><th style=\"text-align: right;\">        u</th><th style=\"text-align: right;\">        h</th><th style=\"text-align: right;\">       w</th><th style=\"text-align: right;\">        r</th><th style=\"text-align: right;\">        o</th><th style=\"text-align: right;\">        y</th><th style=\"text-align: right;\">        b</th></tr>\n",
       "</thead>\n",
       "<tbody>\n",
       "<tr><td>Edible   </td><td style=\"text-align: right;\">0.391635 </td><td style=\"text-align: right;\">0.414449 </td><td style=\"text-align: right;\">0.0114068</td><td style=\"text-align: right;\">0.0114068</td><td style=\"text-align: right;\">0.136882</td><td style=\"text-align: right;\">0        </td><td style=\"text-align: right;\">0.0114068</td><td style=\"text-align: right;\">0.0114068</td><td style=\"text-align: right;\">0.0114068</td></tr>\n",
       "<tr><td>Poisonous</td><td style=\"text-align: right;\">0.0572012</td><td style=\"text-align: right;\">0.0572012</td><td style=\"text-align: right;\">0        </td><td style=\"text-align: right;\">0.404494 </td><td style=\"text-align: right;\">0.462717</td><td style=\"text-align: right;\">0.0183861</td><td style=\"text-align: right;\">0        </td><td style=\"text-align: right;\">0        </td><td style=\"text-align: right;\">0        </td></tr>\n",
       "</tbody>\n",
       "</table>"
      ],
      "text/plain": [
       "<IPython.core.display.HTML object>"
      ]
     },
     "metadata": {},
     "output_type": "display_data"
    },
    {
     "name": "stdout",
     "output_type": "stream",
     "text": [
      " \n",
      "population\n"
     ]
    },
    {
     "data": {
      "text/html": [
       "<table>\n",
       "<thead>\n",
       "<tr><th>         </th><th style=\"text-align: right;\">        s</th><th style=\"text-align: right;\">       n</th><th style=\"text-align: right;\">        a</th><th style=\"text-align: right;\">       v</th><th style=\"text-align: right;\">       y</th><th style=\"text-align: right;\">        c</th></tr>\n",
       "</thead>\n",
       "<tbody>\n",
       "<tr><td>Edible   </td><td style=\"text-align: right;\">0.209125 </td><td style=\"text-align: right;\">0.095057</td><td style=\"text-align: right;\">0.0912548</td><td style=\"text-align: right;\">0.28327 </td><td style=\"text-align: right;\">0.252852</td><td style=\"text-align: right;\">0.0684411</td></tr>\n",
       "<tr><td>Poisonous</td><td style=\"text-align: right;\">0.0939734</td><td style=\"text-align: right;\">0       </td><td style=\"text-align: right;\">0        </td><td style=\"text-align: right;\">0.727273</td><td style=\"text-align: right;\">0.165475</td><td style=\"text-align: right;\">0.0132789</td></tr>\n",
       "</tbody>\n",
       "</table>"
      ],
      "text/plain": [
       "<IPython.core.display.HTML object>"
      ]
     },
     "metadata": {},
     "output_type": "display_data"
    },
    {
     "name": "stdout",
     "output_type": "stream",
     "text": [
      " \n",
      "habitat\n"
     ]
    },
    {
     "data": {
      "text/html": [
       "<table>\n",
       "<thead>\n",
       "<tr><th>         </th><th style=\"text-align: right;\">        u</th><th style=\"text-align: right;\">       g</th><th style=\"text-align: right;\">         m</th><th style=\"text-align: right;\">       d</th><th style=\"text-align: right;\">        p</th><th style=\"text-align: right;\">        w</th><th style=\"text-align: right;\">        l</th></tr>\n",
       "</thead>\n",
       "<tbody>\n",
       "<tr><td>Edible   </td><td style=\"text-align: right;\">0.0228137</td><td style=\"text-align: right;\">0.334601</td><td style=\"text-align: right;\">0.0608365 </td><td style=\"text-align: right;\">0.446768</td><td style=\"text-align: right;\">0.0323194</td><td style=\"text-align: right;\">0.0456274</td><td style=\"text-align: right;\">0.0570342</td></tr>\n",
       "<tr><td>Poisonous</td><td style=\"text-align: right;\">0.0694586</td><td style=\"text-align: right;\">0.188968</td><td style=\"text-align: right;\">0.00919305</td><td style=\"text-align: right;\">0.3238  </td><td style=\"text-align: right;\">0.257406 </td><td style=\"text-align: right;\">0        </td><td style=\"text-align: right;\">0.151175 </td></tr>\n",
       "</tbody>\n",
       "</table>"
      ],
      "text/plain": [
       "<IPython.core.display.HTML object>"
      ]
     },
     "metadata": {},
     "output_type": "display_data"
    }
   ],
   "source": [
    "selection_dict={\"Edible\":df[\"class\"]==\"e\",\"Poisonous\":df[\"class\"]==\"p\"}\n",
    "\n",
    "for cat_feature in select_df:\n",
    "    print (\" \")\n",
    "    print(cat_feature)\n",
    "    results = compare_categorical(df,cat_feature,selection_dict)\n",
    "    display(HTML(tabulate.tabulate(results[0], tablefmt='html', headers=results[1])))\n",
    "  "
   ]
  },
  {
   "cell_type": "code",
   "execution_count": 105,
   "id": "c3bd9d2a-2059-4aa5-ae52-f2f7a5c879da",
   "metadata": {},
   "outputs": [
    {
     "name": "stdout",
     "output_type": "stream",
     "text": [
      " \n",
      "odor\n"
     ]
    },
    {
     "data": {
      "text/html": [
       "<table>\n",
       "<thead>\n",
       "<tr><th>         </th><th style=\"text-align: right;\">        p</th><th style=\"text-align: right;\">       a</th><th style=\"text-align: right;\">       l</th><th style=\"text-align: right;\">        n</th><th style=\"text-align: right;\">       f</th><th style=\"text-align: right;\">        c</th><th style=\"text-align: right;\">       y</th><th style=\"text-align: right;\">       s</th><th style=\"text-align: right;\">         m</th></tr>\n",
       "</thead>\n",
       "<tbody>\n",
       "<tr><td>Edible   </td><td style=\"text-align: right;\">0        </td><td style=\"text-align: right;\">0.095057</td><td style=\"text-align: right;\">0.095057</td><td style=\"text-align: right;\">0.809886 </td><td style=\"text-align: right;\">0       </td><td style=\"text-align: right;\">0        </td><td style=\"text-align: right;\">0       </td><td style=\"text-align: right;\">0       </td><td style=\"text-align: right;\">0         </td></tr>\n",
       "<tr><td>Poisonous</td><td style=\"text-align: right;\">0.0653728</td><td style=\"text-align: right;\">0       </td><td style=\"text-align: right;\">0       </td><td style=\"text-align: right;\">0.0306435</td><td style=\"text-align: right;\">0.551583</td><td style=\"text-align: right;\">0.0490296</td><td style=\"text-align: right;\">0.147089</td><td style=\"text-align: right;\">0.147089</td><td style=\"text-align: right;\">0.00919305</td></tr>\n",
       "</tbody>\n",
       "</table>"
      ],
      "text/plain": [
       "<IPython.core.display.HTML object>"
      ]
     },
     "metadata": {},
     "output_type": "display_data"
    },
    {
     "name": "stdout",
     "output_type": "stream",
     "text": [
      " \n",
      "gill-size\n"
     ]
    },
    {
     "data": {
      "text/html": [
       "<table>\n",
       "<thead>\n",
       "<tr><th>         </th><th style=\"text-align: right;\">        n</th><th style=\"text-align: right;\">       b</th></tr>\n",
       "</thead>\n",
       "<tbody>\n",
       "<tr><td>Edible   </td><td style=\"text-align: right;\">0.0684411</td><td style=\"text-align: right;\">0.931559</td></tr>\n",
       "<tr><td>Poisonous</td><td style=\"text-align: right;\">0.567926 </td><td style=\"text-align: right;\">0.432074</td></tr>\n",
       "</tbody>\n",
       "</table>"
      ],
      "text/plain": [
       "<IPython.core.display.HTML object>"
      ]
     },
     "metadata": {},
     "output_type": "display_data"
    },
    {
     "name": "stdout",
     "output_type": "stream",
     "text": [
      " \n",
      "gill-color\n"
     ]
    },
    {
     "data": {
      "text/html": [
       "<table>\n",
       "<thead>\n",
       "<tr><th>         </th><th style=\"text-align: right;\">        k</th><th style=\"text-align: right;\">        n</th><th style=\"text-align: right;\">        g</th><th style=\"text-align: right;\">       p</th><th style=\"text-align: right;\">        w</th><th style=\"text-align: right;\">        h</th><th style=\"text-align: right;\">        u</th><th style=\"text-align: right;\">        e</th><th style=\"text-align: right;\">       b</th><th style=\"text-align: right;\">        r</th><th style=\"text-align: right;\">         y</th><th style=\"text-align: right;\">        o</th></tr>\n",
       "</thead>\n",
       "<tbody>\n",
       "<tr><td>Edible   </td><td style=\"text-align: right;\">0.081749 </td><td style=\"text-align: right;\">0.222433 </td><td style=\"text-align: right;\">0.0589354</td><td style=\"text-align: right;\">0.202471</td><td style=\"text-align: right;\">0.227186 </td><td style=\"text-align: right;\">0.0484791</td><td style=\"text-align: right;\">0.105513 </td><td style=\"text-align: right;\">0.0228137</td><td style=\"text-align: right;\">0       </td><td style=\"text-align: right;\">0        </td><td style=\"text-align: right;\">0.0152091 </td><td style=\"text-align: right;\">0.0152091</td></tr>\n",
       "<tr><td>Poisonous</td><td style=\"text-align: right;\">0.0163432</td><td style=\"text-align: right;\">0.0286006</td><td style=\"text-align: right;\">0.128703 </td><td style=\"text-align: right;\">0.163432</td><td style=\"text-align: right;\">0.0628192</td><td style=\"text-align: right;\">0.134831 </td><td style=\"text-align: right;\">0.0122574</td><td style=\"text-align: right;\">0        </td><td style=\"text-align: right;\">0.441267</td><td style=\"text-align: right;\">0.0061287</td><td style=\"text-align: right;\">0.00561798</td><td style=\"text-align: right;\">0        </td></tr>\n",
       "</tbody>\n",
       "</table>"
      ],
      "text/plain": [
       "<IPython.core.display.HTML object>"
      ]
     },
     "metadata": {},
     "output_type": "display_data"
    },
    {
     "name": "stdout",
     "output_type": "stream",
     "text": [
      " \n",
      "bruises\n"
     ]
    },
    {
     "data": {
      "text/html": [
       "<table>\n",
       "<thead>\n",
       "<tr><th>         </th><th style=\"text-align: right;\">       t</th><th style=\"text-align: right;\">       f</th></tr>\n",
       "</thead>\n",
       "<tbody>\n",
       "<tr><td>Edible   </td><td style=\"text-align: right;\">0.653992</td><td style=\"text-align: right;\">0.346008</td></tr>\n",
       "<tr><td>Poisonous</td><td style=\"text-align: right;\">0.159346</td><td style=\"text-align: right;\">0.840654</td></tr>\n",
       "</tbody>\n",
       "</table>"
      ],
      "text/plain": [
       "<IPython.core.display.HTML object>"
      ]
     },
     "metadata": {},
     "output_type": "display_data"
    },
    {
     "name": "stdout",
     "output_type": "stream",
     "text": [
      " \n",
      "stalk-surface-above-ring\n"
     ]
    },
    {
     "data": {
      "text/html": [
       "<table>\n",
       "<thead>\n",
       "<tr><th>         </th><th style=\"text-align: right;\">       s</th><th style=\"text-align: right;\">        f</th><th style=\"text-align: right;\">        k</th><th style=\"text-align: right;\">         y</th></tr>\n",
       "</thead>\n",
       "<tbody>\n",
       "<tr><td>Edible   </td><td style=\"text-align: right;\">0.865019</td><td style=\"text-align: right;\">0.0969582</td><td style=\"text-align: right;\">0.0342205</td><td style=\"text-align: right;\">0.00380228</td></tr>\n",
       "<tr><td>Poisonous</td><td style=\"text-align: right;\">0.392237</td><td style=\"text-align: right;\">0.0367722</td><td style=\"text-align: right;\">0.568948 </td><td style=\"text-align: right;\">0.0020429 </td></tr>\n",
       "</tbody>\n",
       "</table>"
      ],
      "text/plain": [
       "<IPython.core.display.HTML object>"
      ]
     },
     "metadata": {},
     "output_type": "display_data"
    },
    {
     "name": "stdout",
     "output_type": "stream",
     "text": [
      " \n",
      "stalk-surface-below-ring\n"
     ]
    },
    {
     "data": {
      "text/html": [
       "<table>\n",
       "<thead>\n",
       "<tr><th>         </th><th style=\"text-align: right;\">       s</th><th style=\"text-align: right;\">        f</th><th style=\"text-align: right;\">        y</th><th style=\"text-align: right;\">        k</th></tr>\n",
       "</thead>\n",
       "<tbody>\n",
       "<tr><td>Edible   </td><td style=\"text-align: right;\">0.807985</td><td style=\"text-align: right;\">0.108365 </td><td style=\"text-align: right;\">0.0494297</td><td style=\"text-align: right;\">0.0342205</td></tr>\n",
       "<tr><td>Poisonous</td><td style=\"text-align: right;\">0.392237</td><td style=\"text-align: right;\">0.0367722</td><td style=\"text-align: right;\">0.0194076</td><td style=\"text-align: right;\">0.551583 </td></tr>\n",
       "</tbody>\n",
       "</table>"
      ],
      "text/plain": [
       "<IPython.core.display.HTML object>"
      ]
     },
     "metadata": {},
     "output_type": "display_data"
    },
    {
     "name": "stdout",
     "output_type": "stream",
     "text": [
      " \n",
      "spore-print-color\n"
     ]
    },
    {
     "data": {
      "text/html": [
       "<table>\n",
       "<thead>\n",
       "<tr><th>         </th><th style=\"text-align: right;\">        k</th><th style=\"text-align: right;\">        n</th><th style=\"text-align: right;\">        u</th><th style=\"text-align: right;\">        h</th><th style=\"text-align: right;\">       w</th><th style=\"text-align: right;\">        r</th><th style=\"text-align: right;\">        o</th><th style=\"text-align: right;\">        y</th><th style=\"text-align: right;\">        b</th></tr>\n",
       "</thead>\n",
       "<tbody>\n",
       "<tr><td>Edible   </td><td style=\"text-align: right;\">0.391635 </td><td style=\"text-align: right;\">0.414449 </td><td style=\"text-align: right;\">0.0114068</td><td style=\"text-align: right;\">0.0114068</td><td style=\"text-align: right;\">0.136882</td><td style=\"text-align: right;\">0        </td><td style=\"text-align: right;\">0.0114068</td><td style=\"text-align: right;\">0.0114068</td><td style=\"text-align: right;\">0.0114068</td></tr>\n",
       "<tr><td>Poisonous</td><td style=\"text-align: right;\">0.0572012</td><td style=\"text-align: right;\">0.0572012</td><td style=\"text-align: right;\">0        </td><td style=\"text-align: right;\">0.404494 </td><td style=\"text-align: right;\">0.462717</td><td style=\"text-align: right;\">0.0183861</td><td style=\"text-align: right;\">0        </td><td style=\"text-align: right;\">0        </td><td style=\"text-align: right;\">0        </td></tr>\n",
       "</tbody>\n",
       "</table>"
      ],
      "text/plain": [
       "<IPython.core.display.HTML object>"
      ]
     },
     "metadata": {},
     "output_type": "display_data"
    }
   ],
   "source": [
    "selection_dict={\"Edible\":df[\"class\"]==\"e\",\"Poisonous\":df[\"class\"]==\"p\"}\n",
    "for cat_feature in [ 'odor', 'gill-size','gill-color', 'bruises','stalk-surface-above-ring',\n",
    "                    'stalk-surface-below-ring','spore-print-color']:\n",
    "    print(\" \")\n",
    "    print(cat_feature)\n",
    "    results = compare_categorical(df,cat_feature,selection_dict)\n",
    "    display(HTML(tabulate.tabulate(results[0], tablefmt='html', headers=results[1])))"
   ]
  },
  {
   "cell_type": "markdown",
   "id": "c7481256-6a8c-4eb2-83e5-9b50e770295d",
   "metadata": {},
   "source": [
    "Based on these tables, I observed similar patterns to those from the earlier visualizations. Edible mushrooms most commonly have the odor category none (n), which accounts for approximately 81% of edible samples. In contrast, poisonous mushrooms are strongly associated with a foul (f) odor, ocurring in about 55% of cases.\n",
    "\n",
    "Gill-color is also an important feature. Buff (b) gill-color is observed in 44% of poisonous mushrooms and 0% of edible ones, showing its a strong indicator. For the bruises feature, 60% of edible mushrooms have bruises, while 84% of poisonous mushrooms do not. This is an important inverse pattern between the two.\n",
    "\n",
    "These tables help to determine the most common feature categories associated with each mushroom class (edible or poisonous) and also help to identify patterns to build a strong classification model. "
   ]
  },
  {
   "cell_type": "code",
   "execution_count": null,
   "id": "26506b37-2da0-489c-9570-576d10705a55",
   "metadata": {},
   "outputs": [],
   "source": []
  }
 ],
 "metadata": {
  "kernelspec": {
   "display_name": "Python 3 (ipykernel)",
   "language": "python",
   "name": "python3"
  },
  "language_info": {
   "codemirror_mode": {
    "name": "ipython",
    "version": 3
   },
   "file_extension": ".py",
   "mimetype": "text/x-python",
   "name": "python",
   "nbconvert_exporter": "python",
   "pygments_lexer": "ipython3",
   "version": "3.12.7"
  }
 },
 "nbformat": 4,
 "nbformat_minor": 5
}
